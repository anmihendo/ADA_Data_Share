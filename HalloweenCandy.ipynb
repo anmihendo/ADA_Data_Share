{
 "cells": [
  {
   "cell_type": "markdown",
   "source": [
    "# Halloween Candy Dataset\n",
    "Data Repo: https://github.com/fivethirtyeight/data\n",
    "\n",
    "This is a dataset I found while looking for relevant candy/halloween data"
   ],
   "metadata": {
    "collapsed": false
   }
  },
  {
   "cell_type": "code",
   "execution_count": 1,
   "outputs": [],
   "source": [
    "import pandas as pd"
   ],
   "metadata": {
    "collapsed": false,
    "pycharm": {
     "name": "#%%\n"
    }
   }
  },
  {
   "cell_type": "code",
   "execution_count": 5,
   "outputs": [
    {
     "data": {
      "text/plain": "                chocolate  fruity  caramel  peanutyalmondy  nougat  \\\ncompetitorname                                                       \n100 Grand               1       0        1               0       0   \n3 Musketeers            1       0        0               0       1   \nOne dime                0       0        0               0       0   \nOne quarter             0       0        0               0       0   \nAir Heads               0       1        0               0       0   \n\n                crispedricewafer  hard  bar  pluribus  sugarpercent  \\\ncompetitorname                                                        \n100 Grand                      1     0    1         0         0.732   \n3 Musketeers                   0     0    1         0         0.604   \nOne dime                       0     0    0         0         0.011   \nOne quarter                    0     0    0         0         0.011   \nAir Heads                      0     0    0         0         0.906   \n\n                pricepercent  winpercent  \ncompetitorname                            \n100 Grand              0.860   66.971725  \n3 Musketeers           0.511   67.602936  \nOne dime               0.116   32.261086  \nOne quarter            0.511   46.116505  \nAir Heads              0.511   52.341465  ",
      "text/html": "<div>\n<style scoped>\n    .dataframe tbody tr th:only-of-type {\n        vertical-align: middle;\n    }\n\n    .dataframe tbody tr th {\n        vertical-align: top;\n    }\n\n    .dataframe thead th {\n        text-align: right;\n    }\n</style>\n<table border=\"1\" class=\"dataframe\">\n  <thead>\n    <tr style=\"text-align: right;\">\n      <th></th>\n      <th>chocolate</th>\n      <th>fruity</th>\n      <th>caramel</th>\n      <th>peanutyalmondy</th>\n      <th>nougat</th>\n      <th>crispedricewafer</th>\n      <th>hard</th>\n      <th>bar</th>\n      <th>pluribus</th>\n      <th>sugarpercent</th>\n      <th>pricepercent</th>\n      <th>winpercent</th>\n    </tr>\n    <tr>\n      <th>competitorname</th>\n      <th></th>\n      <th></th>\n      <th></th>\n      <th></th>\n      <th></th>\n      <th></th>\n      <th></th>\n      <th></th>\n      <th></th>\n      <th></th>\n      <th></th>\n      <th></th>\n    </tr>\n  </thead>\n  <tbody>\n    <tr>\n      <th>100 Grand</th>\n      <td>1</td>\n      <td>0</td>\n      <td>1</td>\n      <td>0</td>\n      <td>0</td>\n      <td>1</td>\n      <td>0</td>\n      <td>1</td>\n      <td>0</td>\n      <td>0.732</td>\n      <td>0.860</td>\n      <td>66.971725</td>\n    </tr>\n    <tr>\n      <th>3 Musketeers</th>\n      <td>1</td>\n      <td>0</td>\n      <td>0</td>\n      <td>0</td>\n      <td>1</td>\n      <td>0</td>\n      <td>0</td>\n      <td>1</td>\n      <td>0</td>\n      <td>0.604</td>\n      <td>0.511</td>\n      <td>67.602936</td>\n    </tr>\n    <tr>\n      <th>One dime</th>\n      <td>0</td>\n      <td>0</td>\n      <td>0</td>\n      <td>0</td>\n      <td>0</td>\n      <td>0</td>\n      <td>0</td>\n      <td>0</td>\n      <td>0</td>\n      <td>0.011</td>\n      <td>0.116</td>\n      <td>32.261086</td>\n    </tr>\n    <tr>\n      <th>One quarter</th>\n      <td>0</td>\n      <td>0</td>\n      <td>0</td>\n      <td>0</td>\n      <td>0</td>\n      <td>0</td>\n      <td>0</td>\n      <td>0</td>\n      <td>0</td>\n      <td>0.011</td>\n      <td>0.511</td>\n      <td>46.116505</td>\n    </tr>\n    <tr>\n      <th>Air Heads</th>\n      <td>0</td>\n      <td>1</td>\n      <td>0</td>\n      <td>0</td>\n      <td>0</td>\n      <td>0</td>\n      <td>0</td>\n      <td>0</td>\n      <td>0</td>\n      <td>0.906</td>\n      <td>0.511</td>\n      <td>52.341465</td>\n    </tr>\n  </tbody>\n</table>\n</div>"
     },
     "execution_count": 5,
     "metadata": {},
     "output_type": "execute_result"
    }
   ],
   "source": [
    "# import the data into a pandas dataframe\n",
    "candy = pd.read_csv('candy-data.csv', index_col='competitorname')\n",
    "\n",
    "#look at the top 5 rows\n",
    "candy.head(5)"
   ],
   "metadata": {
    "collapsed": false,
    "pycharm": {
     "name": "#%%\n"
    }
   }
  },
  {
   "cell_type": "code",
   "execution_count": 6,
   "outputs": [
    {
     "data": {
      "text/plain": "                            chocolate  fruity  caramel  peanutyalmondy  \\\ncompetitorname                                                           \nTwizzlers                           0       1        0               0   \nWarheads                            0       1        0               0   \nWelchÕs Fruit Snacks                0       1        0               0   \nWertherÕs Original Caramel          0       0        1               0   \nWhoppers                            1       0        0               0   \n\n                            nougat  crispedricewafer  hard  bar  pluribus  \\\ncompetitorname                                                              \nTwizzlers                        0                 0     0    0         0   \nWarheads                         0                 0     1    0         0   \nWelchÕs Fruit Snacks             0                 0     0    0         1   \nWertherÕs Original Caramel       0                 0     1    0         0   \nWhoppers                         0                 1     0    0         1   \n\n                            sugarpercent  pricepercent  winpercent  \ncompetitorname                                                      \nTwizzlers                          0.220         0.116   45.466282  \nWarheads                           0.093         0.116   39.011898  \nWelchÕs Fruit Snacks               0.313         0.313   44.375519  \nWertherÕs Original Caramel         0.186         0.267   41.904308  \nWhoppers                           0.872         0.848   49.524113  ",
      "text/html": "<div>\n<style scoped>\n    .dataframe tbody tr th:only-of-type {\n        vertical-align: middle;\n    }\n\n    .dataframe tbody tr th {\n        vertical-align: top;\n    }\n\n    .dataframe thead th {\n        text-align: right;\n    }\n</style>\n<table border=\"1\" class=\"dataframe\">\n  <thead>\n    <tr style=\"text-align: right;\">\n      <th></th>\n      <th>chocolate</th>\n      <th>fruity</th>\n      <th>caramel</th>\n      <th>peanutyalmondy</th>\n      <th>nougat</th>\n      <th>crispedricewafer</th>\n      <th>hard</th>\n      <th>bar</th>\n      <th>pluribus</th>\n      <th>sugarpercent</th>\n      <th>pricepercent</th>\n      <th>winpercent</th>\n    </tr>\n    <tr>\n      <th>competitorname</th>\n      <th></th>\n      <th></th>\n      <th></th>\n      <th></th>\n      <th></th>\n      <th></th>\n      <th></th>\n      <th></th>\n      <th></th>\n      <th></th>\n      <th></th>\n      <th></th>\n    </tr>\n  </thead>\n  <tbody>\n    <tr>\n      <th>Twizzlers</th>\n      <td>0</td>\n      <td>1</td>\n      <td>0</td>\n      <td>0</td>\n      <td>0</td>\n      <td>0</td>\n      <td>0</td>\n      <td>0</td>\n      <td>0</td>\n      <td>0.220</td>\n      <td>0.116</td>\n      <td>45.466282</td>\n    </tr>\n    <tr>\n      <th>Warheads</th>\n      <td>0</td>\n      <td>1</td>\n      <td>0</td>\n      <td>0</td>\n      <td>0</td>\n      <td>0</td>\n      <td>1</td>\n      <td>0</td>\n      <td>0</td>\n      <td>0.093</td>\n      <td>0.116</td>\n      <td>39.011898</td>\n    </tr>\n    <tr>\n      <th>WelchÕs Fruit Snacks</th>\n      <td>0</td>\n      <td>1</td>\n      <td>0</td>\n      <td>0</td>\n      <td>0</td>\n      <td>0</td>\n      <td>0</td>\n      <td>0</td>\n      <td>1</td>\n      <td>0.313</td>\n      <td>0.313</td>\n      <td>44.375519</td>\n    </tr>\n    <tr>\n      <th>WertherÕs Original Caramel</th>\n      <td>0</td>\n      <td>0</td>\n      <td>1</td>\n      <td>0</td>\n      <td>0</td>\n      <td>0</td>\n      <td>1</td>\n      <td>0</td>\n      <td>0</td>\n      <td>0.186</td>\n      <td>0.267</td>\n      <td>41.904308</td>\n    </tr>\n    <tr>\n      <th>Whoppers</th>\n      <td>1</td>\n      <td>0</td>\n      <td>0</td>\n      <td>0</td>\n      <td>0</td>\n      <td>1</td>\n      <td>0</td>\n      <td>0</td>\n      <td>1</td>\n      <td>0.872</td>\n      <td>0.848</td>\n      <td>49.524113</td>\n    </tr>\n  </tbody>\n</table>\n</div>"
     },
     "execution_count": 6,
     "metadata": {},
     "output_type": "execute_result"
    }
   ],
   "source": [
    "# look at the bottom 5 rows\n",
    "candy.tail(5)"
   ],
   "metadata": {
    "collapsed": false,
    "pycharm": {
     "name": "#%%\n"
    }
   }
  },
  {
   "cell_type": "code",
   "execution_count": 7,
   "outputs": [
    {
     "name": "stdout",
     "output_type": "stream",
     "text": [
      "<class 'pandas.core.frame.DataFrame'>\n",
      "Index: 85 entries, 100 Grand to Whoppers\n",
      "Data columns (total 12 columns):\n",
      " #   Column            Non-Null Count  Dtype  \n",
      "---  ------            --------------  -----  \n",
      " 0   chocolate         85 non-null     int64  \n",
      " 1   fruity            85 non-null     int64  \n",
      " 2   caramel           85 non-null     int64  \n",
      " 3   peanutyalmondy    85 non-null     int64  \n",
      " 4   nougat            85 non-null     int64  \n",
      " 5   crispedricewafer  85 non-null     int64  \n",
      " 6   hard              85 non-null     int64  \n",
      " 7   bar               85 non-null     int64  \n",
      " 8   pluribus          85 non-null     int64  \n",
      " 9   sugarpercent      85 non-null     float64\n",
      " 10  pricepercent      85 non-null     float64\n",
      " 11  winpercent        85 non-null     float64\n",
      "dtypes: float64(3), int64(9)\n",
      "memory usage: 8.6+ KB\n"
     ]
    }
   ],
   "source": [
    "candy.info()"
   ],
   "metadata": {
    "collapsed": false,
    "pycharm": {
     "name": "#%%\n"
    }
   }
  },
  {
   "cell_type": "code",
   "execution_count": 8,
   "outputs": [],
   "source": [
    "import dataframe_image as dfi\n",
    "cc_describe = candy.describe()\n",
    "dfi.export(cc_describe, 'cc_describe.png')"
   ],
   "metadata": {
    "collapsed": false,
    "pycharm": {
     "name": "#%%\n"
    }
   }
  },
  {
   "cell_type": "code",
   "execution_count": 9,
   "outputs": [
    {
     "data": {
      "text/plain": "       chocolate     fruity    caramel  peanutyalmondy     nougat  \\\ncount  85.000000  85.000000  85.000000       85.000000  85.000000   \nmean    0.435294   0.447059   0.164706        0.164706   0.082353   \nstd     0.498738   0.500140   0.373116        0.373116   0.276533   \nmin     0.000000   0.000000   0.000000        0.000000   0.000000   \n25%     0.000000   0.000000   0.000000        0.000000   0.000000   \n50%     0.000000   0.000000   0.000000        0.000000   0.000000   \n75%     1.000000   1.000000   0.000000        0.000000   0.000000   \nmax     1.000000   1.000000   1.000000        1.000000   1.000000   \n\n       crispedricewafer       hard        bar   pluribus  sugarpercent  \\\ncount         85.000000  85.000000  85.000000  85.000000     85.000000   \nmean           0.082353   0.176471   0.247059   0.517647      0.478647   \nstd            0.276533   0.383482   0.433861   0.502654      0.282778   \nmin            0.000000   0.000000   0.000000   0.000000      0.011000   \n25%            0.000000   0.000000   0.000000   0.000000      0.220000   \n50%            0.000000   0.000000   0.000000   1.000000      0.465000   \n75%            0.000000   0.000000   0.000000   1.000000      0.732000   \nmax            1.000000   1.000000   1.000000   1.000000      0.988000   \n\n       pricepercent  winpercent  \ncount     85.000000   85.000000  \nmean       0.468882   50.316764  \nstd        0.285740   14.714357  \nmin        0.011000   22.445341  \n25%        0.255000   39.141056  \n50%        0.465000   47.829754  \n75%        0.651000   59.863998  \nmax        0.976000   84.180290  ",
      "text/html": "<div>\n<style scoped>\n    .dataframe tbody tr th:only-of-type {\n        vertical-align: middle;\n    }\n\n    .dataframe tbody tr th {\n        vertical-align: top;\n    }\n\n    .dataframe thead th {\n        text-align: right;\n    }\n</style>\n<table border=\"1\" class=\"dataframe\">\n  <thead>\n    <tr style=\"text-align: right;\">\n      <th></th>\n      <th>chocolate</th>\n      <th>fruity</th>\n      <th>caramel</th>\n      <th>peanutyalmondy</th>\n      <th>nougat</th>\n      <th>crispedricewafer</th>\n      <th>hard</th>\n      <th>bar</th>\n      <th>pluribus</th>\n      <th>sugarpercent</th>\n      <th>pricepercent</th>\n      <th>winpercent</th>\n    </tr>\n  </thead>\n  <tbody>\n    <tr>\n      <th>count</th>\n      <td>85.000000</td>\n      <td>85.000000</td>\n      <td>85.000000</td>\n      <td>85.000000</td>\n      <td>85.000000</td>\n      <td>85.000000</td>\n      <td>85.000000</td>\n      <td>85.000000</td>\n      <td>85.000000</td>\n      <td>85.000000</td>\n      <td>85.000000</td>\n      <td>85.000000</td>\n    </tr>\n    <tr>\n      <th>mean</th>\n      <td>0.435294</td>\n      <td>0.447059</td>\n      <td>0.164706</td>\n      <td>0.164706</td>\n      <td>0.082353</td>\n      <td>0.082353</td>\n      <td>0.176471</td>\n      <td>0.247059</td>\n      <td>0.517647</td>\n      <td>0.478647</td>\n      <td>0.468882</td>\n      <td>50.316764</td>\n    </tr>\n    <tr>\n      <th>std</th>\n      <td>0.498738</td>\n      <td>0.500140</td>\n      <td>0.373116</td>\n      <td>0.373116</td>\n      <td>0.276533</td>\n      <td>0.276533</td>\n      <td>0.383482</td>\n      <td>0.433861</td>\n      <td>0.502654</td>\n      <td>0.282778</td>\n      <td>0.285740</td>\n      <td>14.714357</td>\n    </tr>\n    <tr>\n      <th>min</th>\n      <td>0.000000</td>\n      <td>0.000000</td>\n      <td>0.000000</td>\n      <td>0.000000</td>\n      <td>0.000000</td>\n      <td>0.000000</td>\n      <td>0.000000</td>\n      <td>0.000000</td>\n      <td>0.000000</td>\n      <td>0.011000</td>\n      <td>0.011000</td>\n      <td>22.445341</td>\n    </tr>\n    <tr>\n      <th>25%</th>\n      <td>0.000000</td>\n      <td>0.000000</td>\n      <td>0.000000</td>\n      <td>0.000000</td>\n      <td>0.000000</td>\n      <td>0.000000</td>\n      <td>0.000000</td>\n      <td>0.000000</td>\n      <td>0.000000</td>\n      <td>0.220000</td>\n      <td>0.255000</td>\n      <td>39.141056</td>\n    </tr>\n    <tr>\n      <th>50%</th>\n      <td>0.000000</td>\n      <td>0.000000</td>\n      <td>0.000000</td>\n      <td>0.000000</td>\n      <td>0.000000</td>\n      <td>0.000000</td>\n      <td>0.000000</td>\n      <td>0.000000</td>\n      <td>1.000000</td>\n      <td>0.465000</td>\n      <td>0.465000</td>\n      <td>47.829754</td>\n    </tr>\n    <tr>\n      <th>75%</th>\n      <td>1.000000</td>\n      <td>1.000000</td>\n      <td>0.000000</td>\n      <td>0.000000</td>\n      <td>0.000000</td>\n      <td>0.000000</td>\n      <td>0.000000</td>\n      <td>0.000000</td>\n      <td>1.000000</td>\n      <td>0.732000</td>\n      <td>0.651000</td>\n      <td>59.863998</td>\n    </tr>\n    <tr>\n      <th>max</th>\n      <td>1.000000</td>\n      <td>1.000000</td>\n      <td>1.000000</td>\n      <td>1.000000</td>\n      <td>1.000000</td>\n      <td>1.000000</td>\n      <td>1.000000</td>\n      <td>1.000000</td>\n      <td>1.000000</td>\n      <td>0.988000</td>\n      <td>0.976000</td>\n      <td>84.180290</td>\n    </tr>\n  </tbody>\n</table>\n</div>"
     },
     "execution_count": 9,
     "metadata": {},
     "output_type": "execute_result"
    }
   ],
   "source": [
    "candy.describe()"
   ],
   "metadata": {
    "collapsed": false,
    "pycharm": {
     "name": "#%%\n"
    }
   }
  },
  {
   "cell_type": "code",
   "execution_count": null,
   "outputs": [],
   "source": [
    "\n"
   ],
   "metadata": {
    "collapsed": false,
    "pycharm": {
     "name": "#%%\n"
    }
   }
  }
 ],
 "metadata": {
  "kernelspec": {
   "display_name": "Python 3",
   "language": "python",
   "name": "python3"
  },
  "language_info": {
   "codemirror_mode": {
    "name": "ipython",
    "version": 2
   },
   "file_extension": ".py",
   "mimetype": "text/x-python",
   "name": "python",
   "nbconvert_exporter": "python",
   "pygments_lexer": "ipython2",
   "version": "2.7.6"
  }
 },
 "nbformat": 4,
 "nbformat_minor": 0
}